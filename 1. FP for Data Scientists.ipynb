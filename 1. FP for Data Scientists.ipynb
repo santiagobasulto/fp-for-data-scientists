{
 "cells": [
  {
   "cell_type": "markdown",
   "metadata": {},
   "source": [
    "# Functional Programming for Data Scientists\n",
    "\n",
    "This is a summary (with code) of my talk at [PyData NYC 2018](https://pydata.org/nyc2018/). I'll keep updating this guide, so stay tuned!\n",
    "\n",
    "For now, I only include a couple of examples used at the talk, but I'll keep adding more resources not covered.\n",
    "\n",
    "The slides of the talk are publicly available in [google drive](https://docs.google.com/presentation/d/1ycUVw1Ccqs1_Z2M1BjQxespl6KzVYgjgAkpbw82fycM/edit?usp=sharing)."
   ]
  }
 ],
 "metadata": {
  "kernelspec": {
   "display_name": "Python 3",
   "language": "python",
   "name": "python3"
  },
  "language_info": {
   "codemirror_mode": {
    "name": "ipython",
    "version": 3
   },
   "file_extension": ".py",
   "mimetype": "text/x-python",
   "name": "python",
   "nbconvert_exporter": "python",
   "pygments_lexer": "ipython3",
   "version": "3.6.6"
  }
 },
 "nbformat": 4,
 "nbformat_minor": 2
}
