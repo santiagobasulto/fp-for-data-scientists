{
 "cells": [
  {
   "cell_type": "code",
   "execution_count": 1,
   "metadata": {},
   "outputs": [],
   "source": [
    "text = \"\"\"\n",
    "Peter Piper picked a peck of pickled peppers\n",
    "A peck of pickled peppers Peter Piper picked\n",
    "If Peter Piper picked a peck of pickled peppers,\n",
    "Where's the peck of pickled peppers Peter Piper picked?\n",
    "\"\"\""
   ]
  },
  {
   "cell_type": "markdown",
   "metadata": {},
   "source": [
    "### Count words: imperative"
   ]
  },
  {
   "cell_type": "code",
   "execution_count": 14,
   "metadata": {},
   "outputs": [
    {
     "data": {
      "text/plain": [
       "{'peter': 4,\n",
       " 'piper': 4,\n",
       " 'picked': 3,\n",
       " 'a': 3,\n",
       " 'peck': 4,\n",
       " 'of': 4,\n",
       " 'pickled': 4,\n",
       " 'peppers;': 1,\n",
       " 'peppers': 3,\n",
       " 'picked;': 1,\n",
       " 'if': 1,\n",
       " \"where's\": 1,\n",
       " 'the': 1}"
      ]
     },
     "execution_count": 14,
     "metadata": {},
     "output_type": "execute_result"
    }
   ],
   "source": [
    "imperative_res = {}\n",
    "for word in text.replace('\\n', ' ').replace(',', '').replace('?', '').split():\n",
    "    word = word.strip().lower()\n",
    "    if not word:\n",
    "        continue\n",
    "    imperative_res.setdefault(word, 0)\n",
    "    imperative_res[word] += 1\n",
    "imperative_res"
   ]
  },
  {
   "cell_type": "markdown",
   "metadata": {},
   "source": [
    "## Count words: declarative"
   ]
  },
  {
   "cell_type": "code",
   "execution_count": 5,
   "metadata": {},
   "outputs": [],
   "source": [
    "from itertools import groupby\n",
    "from functools import reduce"
   ]
  },
  {
   "cell_type": "code",
   "execution_count": 19,
   "metadata": {},
   "outputs": [
    {
     "data": {
      "text/plain": [
       "{'a': 3,\n",
       " 'if': 1,\n",
       " 'of': 4,\n",
       " 'peck': 4,\n",
       " 'peppers': 3,\n",
       " 'peppers;': 1,\n",
       " 'peter': 4,\n",
       " 'picked': 3,\n",
       " 'picked;': 1,\n",
       " 'pickled': 4,\n",
       " 'piper': 4,\n",
       " 'the': 1,\n",
       " \"where's\": 1}"
      ]
     },
     "execution_count": 19,
     "metadata": {},
     "output_type": "execute_result"
    }
   ],
   "source": [
    "words = (\n",
    "    (w.lower(), 1)\n",
    "    for w in text.replace('\\n', ' ').replace(',', '').replace('?', '').split() if w)\n",
    "dict([(word, len(list(group))) for word, group in groupby(sorted(words), key=lambda d: d[0])])"
   ]
  },
  {
   "cell_type": "code",
   "execution_count": null,
   "metadata": {},
   "outputs": [],
   "source": []
  }
 ],
 "metadata": {
  "kernelspec": {
   "display_name": "Python 3",
   "language": "python",
   "name": "python3"
  },
  "language_info": {
   "codemirror_mode": {
    "name": "ipython",
    "version": 3
   },
   "file_extension": ".py",
   "mimetype": "text/x-python",
   "name": "python",
   "nbconvert_exporter": "python",
   "pygments_lexer": "ipython3",
   "version": "3.6.6"
  }
 },
 "nbformat": 4,
 "nbformat_minor": 2
}
